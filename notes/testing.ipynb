{
 "cells": [
  {
   "cell_type": "code",
   "execution_count": 1,
   "metadata": {},
   "outputs": [],
   "source": [
    "import requests\n",
    "import json\n",
    "import pywaves as pw"
   ]
  },
  {
   "cell_type": "code",
   "execution_count": 2,
   "metadata": {},
   "outputs": [],
   "source": [
    "node = \"https://testnode1.wavesnodes.com\"\n",
    "chain = \"testnet\"\n",
    "\n",
    "pw.setNode(node = node, chain = chain)\n",
    "myAddress = pw.Address(privateKey='DvmMB3VawihsTHWFPv3eJD8ENCd2ywYzwmpJksPXkcYb')"
   ]
  },
  {
   "cell_type": "code",
   "execution_count": 6,
   "metadata": {},
   "outputs": [],
   "source": [
    "myAddress = pw.Address(privateKey='DvmMB3VawihsTHWFPv3eJD8ENCd2ywYzwmpJksPXkcYb')\n",
    "\n",
    "data = [{\n",
    "        'type':'string', \n",
    "        'key': 'to Mr. Boss', \n",
    "        'value':'Neuroslav. Let it be. Neuroslav will be.'\n",
    "        }]"
   ]
  },
  {
   "cell_type": "code",
   "execution_count": 7,
   "metadata": {},
   "outputs": [
    {
     "data": {
      "text/plain": [
       "738700000"
      ]
     },
     "execution_count": 7,
     "metadata": {},
     "output_type": "execute_result"
    }
   ],
   "source": [
    "myAddress.balance()"
   ]
  },
  {
   "cell_type": "code",
   "execution_count": 8,
   "metadata": {},
   "outputs": [
    {
     "data": {
      "text/plain": [
       "{'type': 12,\n",
       " 'id': 'AG7VkcmsvyJYS2snJrKYR2ptFLQMWD2MDPT3WQCnNmte',\n",
       " 'sender': '3N7cqHaa2K4FP8SvVurQid7bJPyv9NP58Uk',\n",
       " 'senderPublicKey': '2r6W6xkw1NcV52qZ848v31sYu3KTD3XMGPuhUXrbvApe',\n",
       " 'fee': 100000,\n",
       " 'timestamp': 1552131570404,\n",
       " 'proofs': ['2nnMaRXBwCQ6y8iLpU9PfPNziewiwPxSXF6hofXCb7DBPzBjUXhVU8h4DE4kg7aQzkxuqTcGeb9c7cZWYVhPJXk3'],\n",
       " 'version': 1,\n",
       " 'data': [{'key': 'to Mr. Boss',\n",
       "   'type': 'string',\n",
       "   'value': 'Neuroslav. Let it be. Neuroslav will be.'}]}"
      ]
     },
     "execution_count": 8,
     "metadata": {},
     "output_type": "execute_result"
    }
   ],
   "source": [
    "myAddress.dataTransaction(data)"
   ]
  },
  {
   "cell_type": "code",
   "execution_count": null,
   "metadata": {},
   "outputs": [],
   "source": []
  }
 ],
 "metadata": {
  "kernelspec": {
   "display_name": "Python 3",
   "language": "python",
   "name": "python3"
  },
  "language_info": {
   "codemirror_mode": {
    "name": "ipython",
    "version": 3
   },
   "file_extension": ".py",
   "mimetype": "text/x-python",
   "name": "python",
   "nbconvert_exporter": "python",
   "pygments_lexer": "ipython3",
   "version": "3.6.5"
  }
 },
 "nbformat": 4,
 "nbformat_minor": 2
}
